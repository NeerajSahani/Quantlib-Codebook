{
 "cells": [
  {
   "cell_type": "markdown",
   "metadata": {},
   "source": [
    "# Quantlib Codebook"
   ]
  },
  {
   "cell_type": "code",
   "execution_count": 2,
   "metadata": {},
   "outputs": [],
   "source": [
    "import QuantLib as ql"
   ]
  },
  {
   "cell_type": "markdown",
   "metadata": {},
   "source": [
    "### Date"
   ]
  },
  {
   "cell_type": "markdown",
   "metadata": {},
   "source": [
    "`ql.Date(day, month, year)\n",
    "ql.Date(dateString, formatString)`"
   ]
  },
  {
   "cell_type": "code",
   "execution_count": 41,
   "metadata": {},
   "outputs": [
    {
     "name": "stdout",
     "output_type": "stream",
     "text": [
      "April 12th, 2020\n",
      "April 12th, 2020\n"
     ]
    }
   ],
   "source": [
    "date = ql.Date(12, 4, 2020)\n",
    "print(date)\n",
    "print(ql.Date('12-04-2020', '%d-%m-%Y'))"
   ]
  },
  {
   "cell_type": "markdown",
   "metadata": {},
   "source": [
    "### Member Functions"
   ]
  },
  {
   "cell_type": "markdown",
   "metadata": {},
   "source": [
    "<pre>\n",
    "ISO\n",
    "\n",
    "weekday() : an integer that returns the number corresponding to the week: - Sunday: 1 - … - Saturday: 7\n",
    "\n",
    "dayOfMonth() : integer, the date returned is the day of the month\n",
    "\n",
    "dayOfYear() : integer, the date returned is the day of the year\n",
    "\n",
    "month() : an integer that returns the month corresponding to the date\n",
    "\n",
    "year() : an integer that returns the year corresponding to the date\n",
    "\n",
    "serialNumber() integer, the number of days corresponding to the return date (starting from 1899-12-31)<pre>"
   ]
  },
  {
   "cell_type": "code",
   "execution_count": 48,
   "metadata": {},
   "outputs": [
    {
     "name": "stdout",
     "output_type": "stream",
     "text": [
      "Original Date: November 28th, 2020\n",
      "ISO format: 2020-11-28\n",
      "Weekday: 7\n",
      "Day of Month: 28\n",
      "Day of Year: 333\n",
      "Month: 11\n",
      "Year: 2020\n",
      "Serial Number: 44163\n"
     ]
    }
   ],
   "source": [
    "today = ql.Date.todaysDate()\n",
    "print('Original Date:', today)\n",
    "print('ISO format:', today.ISO())\n",
    "print('Weekday:', today.weekday())\n",
    "print('Day of Month:', today.dayOfMonth())\n",
    "print('Day of Year:', today.dayOfYear())\n",
    "print('Month:', today.month())\n",
    "print('Year:', today.year())\n",
    "print('Serial Number:', today.serialNumber())"
   ]
  },
  {
   "cell_type": "markdown",
   "metadata": {},
   "source": [
    "### Arithmatic Operations"
   ]
  },
  {
   "cell_type": "code",
   "execution_count": 32,
   "metadata": {},
   "outputs": [
    {
     "data": {
      "text/plain": [
       "Date(12,4,2020)"
      ]
     },
     "execution_count": 32,
     "metadata": {},
     "output_type": "execute_result"
    }
   ],
   "source": [
    "date"
   ]
  },
  {
   "cell_type": "code",
   "execution_count": 23,
   "metadata": {},
   "outputs": [
    {
     "data": {
      "text/plain": [
       "Date(13,4,2020)"
      ]
     },
     "execution_count": 23,
     "metadata": {},
     "output_type": "execute_result"
    }
   ],
   "source": [
    "date + 1"
   ]
  },
  {
   "cell_type": "code",
   "execution_count": 28,
   "metadata": {},
   "outputs": [
    {
     "data": {
      "text/plain": [
       "Date(19,4,2020)"
      ]
     },
     "execution_count": 28,
     "metadata": {},
     "output_type": "execute_result"
    }
   ],
   "source": [
    "date + ql.Period(1, ql.Weeks)"
   ]
  },
  {
   "cell_type": "code",
   "execution_count": 25,
   "metadata": {},
   "outputs": [
    {
     "data": {
      "text/plain": [
       "Date(12,5,2020)"
      ]
     },
     "execution_count": 25,
     "metadata": {},
     "output_type": "execute_result"
    }
   ],
   "source": [
    "date + ql.Period(1, ql.Months)"
   ]
  },
  {
   "cell_type": "code",
   "execution_count": 26,
   "metadata": {},
   "outputs": [
    {
     "data": {
      "text/plain": [
       "Date(12,4,2021)"
      ]
     },
     "execution_count": 26,
     "metadata": {},
     "output_type": "execute_result"
    }
   ],
   "source": [
    "date + ql.Period(1, ql.Years)"
   ]
  },
  {
   "cell_type": "markdown",
   "metadata": {},
   "source": [
    "### Logical Operations"
   ]
  },
  {
   "cell_type": "code",
   "execution_count": 29,
   "metadata": {},
   "outputs": [
    {
     "data": {
      "text/plain": [
       "Date(12,4,2020)"
      ]
     },
     "execution_count": 29,
     "metadata": {},
     "output_type": "execute_result"
    }
   ],
   "source": [
    "date"
   ]
  },
  {
   "cell_type": "code",
   "execution_count": 30,
   "metadata": {},
   "outputs": [
    {
     "data": {
      "text/plain": [
       "False"
      ]
     },
     "execution_count": 30,
     "metadata": {},
     "output_type": "execute_result"
    }
   ],
   "source": [
    "date < ql.Date(12, 3, 2020)"
   ]
  },
  {
   "cell_type": "code",
   "execution_count": 31,
   "metadata": {},
   "outputs": [
    {
     "data": {
      "text/plain": [
       "True"
      ]
     },
     "execution_count": 31,
     "metadata": {},
     "output_type": "execute_result"
    }
   ],
   "source": [
    "date > ql.Date(12, 3, 2020)"
   ]
  },
  {
   "cell_type": "markdown",
   "metadata": {},
   "source": [
    "## Construct List of Dates / Schedule"
   ]
  },
  {
   "cell_type": "markdown",
   "metadata": {},
   "source": [
    "`Schedule(effectiveDate, terminationDate, tenor, calendar, convention, terminationDateConvention, rule, endOfMonth, firstDate=Date(), nextToLastDate=Date())`\n",
    "\n",
    "effectiveDate, terminationDate : Date, the start and end date of the calendar list, such as the value date and expiration date of the bond.\n",
    "\n",
    "tenor : Period object, the interval between two adjacent dates, such as the bond frequency (1 year or 6 months) or interest rate swap rate (3 months).\n",
    "\n",
    "calendar : A calendar table that generates a specific calendar of dates to follow.\n",
    "\n",
    "convention : integer, how to adjust the non-working day (except the last date), the value range is some reserved variables of quantlib-python.\n",
    "\n",
    "terminationDateConvention : Integer, if the last date is a non-working day, how to adjust it, the value range is some reserved variables of quantlib-python.\n",
    "\n",
    "Rule : A member of DateGeneration that generates the rules for the date.\n",
    "\n",
    "endOfMonth : If the start date is at the end of the month, whether other dates are required to be scheduled at the end of the month (except the last date).\n",
    "\n",
    "firstDate : nextToLastDate (optional): Date, the start and end date (not commonly used) provided for the generated method rule ."
   ]
  },
  {
   "cell_type": "code",
   "execution_count": 73,
   "metadata": {},
   "outputs": [],
   "source": [
    "effectiveDate = ql.Date(12, 4, 2016)\n",
    "terminationDate = ql.Date(12, 4, 2020)\n",
    "\n",
    "tenor = ql.Period('6M')\n",
    "calendar = ql.India()"
   ]
  },
  {
   "cell_type": "code",
   "execution_count": 76,
   "metadata": {},
   "outputs": [
    {
     "data": {
      "text/plain": [
       "[Date(12,4,2016),\n",
       " Date(12,10,2016),\n",
       " Date(12,4,2017),\n",
       " Date(12,10,2017),\n",
       " Date(12,4,2018),\n",
       " Date(12,10,2018),\n",
       " Date(12,4,2019),\n",
       " Date(12,10,2019),\n",
       " Date(12,4,2020)]"
      ]
     },
     "execution_count": 76,
     "metadata": {},
     "output_type": "execute_result"
    }
   ],
   "source": [
    "schedule = ql.MakeSchedule(effectiveDate, terminationDate, tenor)\n",
    "list(schedule)"
   ]
  },
  {
   "cell_type": "code",
   "execution_count": 78,
   "metadata": {},
   "outputs": [
    {
     "data": {
      "text/plain": [
       "[Date(15,6,2020),\n",
       " Date(15,12,2020),\n",
       " Date(15,6,2021),\n",
       " Date(15,12,2021),\n",
       " Date(15,6,2022)]"
      ]
     },
     "execution_count": 78,
     "metadata": {},
     "output_type": "execute_result"
    }
   ],
   "source": [
    "effectiveDate = ql.Date(15,6,2020)\n",
    "terminationDate = ql.Date(15,6,2022)\n",
    "frequency = ql.Period('6M')\n",
    "calendar = ql.India()\n",
    "convention = ql.ModifiedFollowing\n",
    "terminationDateConvention = ql.ModifiedFollowing\n",
    "rule = ql.DateGeneration.Forward\n",
    "endOfMonth = False\n",
    "schedule = ql.Schedule(effectiveDate, terminationDate, frequency, calendar, convention, terminationDateConvention, rule, endOfMonth)\n",
    "list(schedule)"
   ]
  },
  {
   "cell_type": "code",
   "execution_count": 61,
   "metadata": {},
   "outputs": [],
   "source": [
    "cal = ql.India()\n",
    "date = ql.Date(12, 4, 2020)"
   ]
  },
  {
   "cell_type": "code",
   "execution_count": 62,
   "metadata": {},
   "outputs": [
    {
     "data": {
      "text/plain": [
       "False"
      ]
     },
     "execution_count": 62,
     "metadata": {},
     "output_type": "execute_result"
    }
   ],
   "source": [
    "cal.isBusinessDay(date)"
   ]
  },
  {
   "cell_type": "code",
   "execution_count": 64,
   "metadata": {},
   "outputs": [
    {
     "name": "stdout",
     "output_type": "stream",
     "text": [
      "Is Holiday : True\n",
      "Is Weekend : False\n",
      "Is Last BD : False\n",
      "Last BD : April 30th, 2020\n"
     ]
    }
   ],
   "source": [
    "print('Is Holiday :', cal.isHoliday(date))\n",
    "print('Is Weekend :', cal.isWeekend(ql.Friday))\n",
    "print('Is Last BD :', cal.isEndOfMonth(ql.Date(5, ql.April, 2018)))\n",
    "print('Last BD :', cal.endOfMonth(date))"
   ]
  },
  {
   "cell_type": "code",
   "execution_count": 66,
   "metadata": {},
   "outputs": [
    {
     "data": {
      "text/plain": [
       "(Date(26,1,2021), Date(2,4,2021), Date(14,4,2021))"
      ]
     },
     "execution_count": 66,
     "metadata": {},
     "output_type": "execute_result"
    }
   ],
   "source": [
    "cal.holidayList(ql.Date(1, 1, 2021), ql.Date(31, 12, 2021))"
   ]
  },
  {
   "cell_type": "code",
   "execution_count": null,
   "metadata": {},
   "outputs": [],
   "source": []
  }
 ],
 "metadata": {
  "kernelspec": {
   "display_name": "Python 3",
   "language": "python",
   "name": "python3"
  },
  "language_info": {
   "codemirror_mode": {
    "name": "ipython",
    "version": 3
   },
   "file_extension": ".py",
   "mimetype": "text/x-python",
   "name": "python",
   "nbconvert_exporter": "python",
   "pygments_lexer": "ipython3",
   "version": "3.7.9"
  }
 },
 "nbformat": 4,
 "nbformat_minor": 4
}
